{
 "cells": [
  {
   "cell_type": "code",
   "execution_count": null,
   "metadata": {
    "colab": {
     "base_uri": "https://localhost:8080/",
     "height": 122
    },
    "id": "QtxBMz2BZd7D",
    "outputId": "07dc0f95-2897-4b10-b45c-08a2d502bc1e"
   },
   "outputs": [
    {
     "name": "stderr",
     "output_type": "stream",
     "text": [
      "C:\\Users\\abrkl\\AppData\\Local\\Temp\\ipykernel_22648\\3652899760.py:8: DeprecationWarning: Importing display from IPython.core.display is deprecated since IPython 7.14, please import from IPython display\n",
      "  from IPython.core.display import display\n"
     ]
    },
    {
     "name": "stdout",
     "output_type": "stream",
     "text": [
      "Pasta atual: train_audio\n",
      "Pasta atual: train_audio\\asbfly\n",
      "Pasta atual: train_audio\\ashdro1\n",
      "Pasta atual: train_audio\\ashpri1\n"
     ]
    }
   ],
   "source": [
    "import os\n",
    "import librosa\n",
    "import librosa.display\n",
    "import matplotlib.pyplot as plt\n",
    "import numpy as np\n",
    "\n",
    "from IPython.display import Audio \n",
    "from IPython.core.display import display\n",
    "def beep(filename):\n",
    "    display(Audio(filename, autoplay=True))\n",
    "\n",
    "# Percorre recursivamente todas as pastas e subpastas dentro do diretório base de áudio\n",
    "\n",
    "for i in range(2):\n",
    "  if (i==0):\n",
    "    diretorio_base_audio = 'train_audio'\n",
    "    diretorio_base_imagens = 'espectrogramasMEL_train_audio'\n",
    "  if (i==1):\n",
    "    diretorio_base_audio = 'unlabeled_soundscapes'\n",
    "    diretorio_base_imagens = 'espectrogramasMEL_unlabeled_soundscapes'\n",
    "\n",
    "  for pasta_atual, subpastas, arquivos in os.walk(diretorio_base_audio):\n",
    "      print(f\"Pasta atual: {pasta_atual}\")\n",
    "      # Itera sobre todos os arquivos encontrados na pasta atual\n",
    "      for arquivo in arquivos:\n",
    "          # Caminho completo para o arquivo atual\n",
    "          caminho_arquivo = os.path.join(pasta_atual, arquivo)\n",
    "\n",
    "          # Verifica se o arquivo é um arquivo de áudio .ogg\n",
    "          if caminho_arquivo.endswith(('.ogg')):\n",
    "\n",
    "              # Carrega o arquivo de áudio usando librosa\n",
    "              audio, sr = librosa.load(caminho_arquivo, sr=None)\n",
    "              # beep(caminho_arquivo)\n",
    "\n",
    "              # Calcula o espectrograma MEL\n",
    "              espectrograma_mel = librosa.feature.melspectrogram(y=audio, sr=sr)\n",
    "\n",
    "              # Converte o espectrograma MEL para decibéis (dB)\n",
    "              espectrograma_mel_db = librosa.power_to_db(espectrograma_mel, ref=np.max)\n",
    "\n",
    "              # Plota o espectrograma MEL\n",
    "              plt.figure(figsize=(10, 4))\n",
    "              librosa.display.specshow(espectrograma_mel_db, sr=sr, x_axis='time', y_axis='mel')\n",
    "              plt.colorbar(format='%+2.0f dB')\n",
    "              plt.title('Espectrograma MEL')\n",
    "              plt.tight_layout()\n",
    "\n",
    "              # Obtém o caminho da pasta de saída para as imagens seguindo a mesma estrutura de diretórios do áudio\n",
    "              pasta_saida_imagens = os.path.join(diretorio_base_imagens, os.path.relpath(pasta_atual, diretorio_base_audio))\n",
    "\n",
    "              # Cria a pasta de saída para as imagens se não existir\n",
    "              if not os.path.exists(pasta_saida_imagens):\n",
    "                  os.makedirs(pasta_saida_imagens)\n",
    "\n",
    "              # Salva o espectrograma MEL como uma imagem nas pastas\n",
    "              nome_saida_imagem = os.path.splitext(arquivo)[0] + '_espectrograma_mel.png'\n",
    "              caminho_saida_imagem = os.path.join(pasta_saida_imagens, nome_saida_imagem)\n",
    "              plt.savefig(caminho_saida_imagem)\n",
    "              plt.close()"
   ]
  },
  {
   "cell_type": "code",
   "execution_count": null,
   "metadata": {},
   "outputs": [],
   "source": []
  }
 ],
 "metadata": {
  "colab": {
   "provenance": []
  },
  "kernelspec": {
   "display_name": "Python 3 (ipykernel)",
   "language": "python",
   "name": "python3"
  },
  "language_info": {
   "codemirror_mode": {
    "name": "ipython",
    "version": 3
   },
   "file_extension": ".py",
   "mimetype": "text/x-python",
   "name": "python",
   "nbconvert_exporter": "python",
   "pygments_lexer": "ipython3",
   "version": "3.10.13"
  }
 },
 "nbformat": 4,
 "nbformat_minor": 1
}
